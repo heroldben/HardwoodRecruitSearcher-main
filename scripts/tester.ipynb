{
 "cells": [
  {
   "cell_type": "code",
   "execution_count": 11,
   "metadata": {},
   "outputs": [
    {
     "name": "stdout",
     "output_type": "stream",
     "text": [
      "78.0 34.5\n"
     ]
    }
   ],
   "source": [
    "from bs4 import BeautifulSoup\n",
    "import requests\n",
    "import hashlib\n",
    "import os\n",
    "from heightconverter import convert_to_feet, convert_to_inches, height_pred, Vert_convert_to_inches\n",
    "from recuritMeasurablePredictor import vertical_pred, vertical_pred_nonFresh, height_pred, wingspan_pred, wingspan_pred_nonFresh\n",
    "\n",
    "\n",
    "player_url = \"http://onlinecollegebasketball.org/player/222496\"\n",
    "\n",
    "\n",
    "response = requests.get(player_url)\n",
    "html_content = response.content\n",
    "soup = BeautifulSoup(html_content, \"html.parser\")\n",
    "\n",
    "#print(soup)\n",
    "table = soup.find(\"table\", class_=\"stats-table-medium_font\")\n",
    "fresh_year = 1\n",
    "schoolYearWantedInt = 2 #use this var schoolYearWantedInt = int(int(schoolYear[wantedYear]))\n",
    "\n",
    "if schoolYearWantedInt == 1:\n",
    "    positions = [(1, 33)]\n",
    "else:\n",
    "    positions = [(1, 33), (schoolYearWantedInt, 33)]\n",
    "values = []\n",
    "rows = table.find_all('tr')\n",
    "for row_idx, col_idx in positions:\n",
    "    cell = rows[row_idx].find_all('td')[col_idx]\n",
    "    #values.append(int(cell.get_text(strip=True)))\n",
    "    #height = convert_to_inches(cell.get_text(strip=True))\n",
    "\n",
    "    values.append(float(convert_to_inches(cell.get_text(strip=True)))) #for finding height (have to convert to inches)\n",
    "\n",
    "fresh_height = values[0]\n",
    "curr_height = values[-1]\n",
    "\n",
    "\n",
    "str_vert = soup.find(\"table\").find_all(\"tr\")[9].find(\"td\").text.split(\"  \")[-1]\n",
    "str_wingspan = soup.find(\"table\").find_all(\"tr\")[8].find(\"td\").text.split(\"  \")[-1]\n",
    "\n",
    "curr_vert = Vert_convert_to_inches(str_vert)\n",
    "curr_wingspan = convert_to_inches(str_wingspan)\n",
    "\n",
    "pred_vert = vertical_pred_nonFresh(fresh_height,curr_height,curr_vert)\n",
    "pred_wingspan = wingspan_pred_nonFresh(fresh_height,curr_height,curr_wingspan)\n",
    "\n",
    "print(pred_wingspan,pred_vert)\n",
    "\n"
   ]
  },
  {
   "cell_type": "code",
   "execution_count": null,
   "metadata": {},
   "outputs": [],
   "source": []
  },
  {
   "cell_type": "code",
   "execution_count": null,
   "metadata": {},
   "outputs": [],
   "source": []
  }
 ],
 "metadata": {
  "kernelspec": {
   "display_name": "Python 3",
   "language": "python",
   "name": "python3"
  },
  "language_info": {
   "codemirror_mode": {
    "name": "ipython",
    "version": 3
   },
   "file_extension": ".py",
   "mimetype": "text/x-python",
   "name": "python",
   "nbconvert_exporter": "python",
   "pygments_lexer": "ipython3",
   "version": "3.10.11"
  }
 },
 "nbformat": 4,
 "nbformat_minor": 2
}
